{
 "cells": [
  {
   "cell_type": "markdown",
   "id": "aeb0821a-dee8-482d-ad85-3fbd311cc57d",
   "metadata": {},
   "source": [
    "***Лабораторная работа №3***"
   ]
  },
  {
   "cell_type": "markdown",
   "id": "011e3d3e-c391-4f70-a9e9-3857d58ec257",
   "metadata": {},
   "source": [
    "Работу выполнил Ширко Максим Андреевич, группа 2371."
   ]
  },
  {
   "cell_type": "markdown",
   "id": "c5633e29-952a-4e64-9728-ac87ac7065d9",
   "metadata": {},
   "source": [
    "Задание на лабораторную работу:\n",
    "1. Необходимо оценить и сравнить результаты классификации, используя следующие\n",
    "алгоритмы классификации:\n",
    "* kNN\n",
    "* дерево решений\n",
    "\n",
    "2. Сравните полученные результаты с помощью различных метрик оценки качества:\n",
    "* Accuracy\n",
    "* Presicion, Recall, F-measure\n",
    "* ROC\n",
    "\n",
    "3. Объяснить полученные результаты:\n",
    "Отчет должен включать описания выполнения каждой подзадачи."
   ]
  },
  {
   "cell_type": "markdown",
   "id": "a63aedaf-5830-439d-8561-5baef676556a",
   "metadata": {},
   "source": [
    "Информация о выбранном датасете: https://www.kaggle.com/datasets/valakhorasani/gym-members-exercise-dataset"
   ]
  },
  {
   "cell_type": "markdown",
   "id": "2d8e6edf-05ba-49db-8020-df58cd4ab8c9",
   "metadata": {},
   "source": [
    "---"
   ]
  },
  {
   "cell_type": "code",
   "execution_count": 8,
   "id": "fe8534ac-00f9-4c72-8925-acfb0143b300",
   "metadata": {},
   "outputs": [
    {
     "name": "stdout",
     "output_type": "stream",
     "text": [
      "   Age  Gender  Weight (kg)  Height (m)  Max_BPM  Avg_BPM  Resting_BPM  \\\n",
      "0   56    Male         88.3        1.71      180      157           60   \n",
      "1   46  Female         74.9        1.53      179      151           66   \n",
      "2   32  Female         68.1        1.66      167      122           54   \n",
      "3   25    Male         53.2        1.70      190      164           56   \n",
      "4   38    Male         46.1        1.79      188      158           68   \n",
      "\n",
      "   Session_Duration (hours)  Calories_Burned Workout_Type  Fat_Percentage  \\\n",
      "0                      1.69           1313.0         Yoga            12.6   \n",
      "1                      1.30            883.0         HIIT            33.9   \n",
      "2                      1.11            677.0       Cardio            33.4   \n",
      "3                      0.59            532.0     Strength            28.8   \n",
      "4                      0.64            556.0     Strength            29.2   \n",
      "\n",
      "   Water_Intake (liters)  Workout_Frequency (days/week)  Experience_Level  \\\n",
      "0                    3.5                              4                 3   \n",
      "1                    2.1                              4                 2   \n",
      "2                    2.3                              4                 2   \n",
      "3                    2.1                              3                 1   \n",
      "4                    2.8                              3                 1   \n",
      "\n",
      "     BMI  \n",
      "0  30.20  \n",
      "1  32.00  \n",
      "2  24.71  \n",
      "3  18.41  \n",
      "4  14.39  \n"
     ]
    }
   ],
   "source": [
    "import pandas as pd\n",
    "import numpy as np\n",
    "from sklearn.model_selection import train_test_split\n",
    "from sklearn.preprocessing import LabelEncoder, StandardScaler\n",
    "from sklearn.neighbors import KNeighborsClassifier\n",
    "from sklearn.tree import DecisionTreeClassifier\n",
    "from sklearn.metrics import accuracy_score, precision_score, recall_score, f1_score, roc_auc_score, roc_curve, classification_report\n",
    "import matplotlib.pyplot as plt\n",
    "\n",
    "# Загрузка данных\n",
    "df = pd.read_csv('gym_members_exercise_tracking.csv')\n",
    "\n",
    "# Отображение первых нескольких строк\n",
    "print(df.head())"
   ]
  },
  {
   "cell_type": "markdown",
   "id": "ed2594fd-6a85-4946-95d4-d19ba502a972",
   "metadata": {},
   "source": [
    "Проведем проверку на сбалансированность классов. Будем рассматривать пол посетителей зала."
   ]
  },
  {
   "cell_type": "code",
   "execution_count": 11,
   "id": "492d1358-1853-4903-9bc4-68fd80a44cdc",
   "metadata": {},
   "outputs": [
    {
     "name": "stdout",
     "output_type": "stream",
     "text": [
      "Распределение классов:\n",
      " Gender\n",
      "1    511\n",
      "0    462\n",
      "Name: count, dtype: int64\n"
     ]
    }
   ],
   "source": [
    "# Преобразование гендера в бинарный класс\n",
    "df['Gender'] = df['Gender'].apply(lambda x: 1 if x == 'Male' else 0)\n",
    "\n",
    "# Оценка сбалансированности классов\n",
    "class_counts = df['Gender'].value_counts()\n",
    "print(\"Распределение классов:\\n\", class_counts)"
   ]
  },
  {
   "cell_type": "markdown",
   "id": "6eec544e-6daf-490b-be20-b597f3acddf5",
   "metadata": {},
   "source": [
    "Распределение (0 - Ж, 1 - М) оказалось сбалансированным - разница примерно 5%. Для классов ***не требуется*** балансировка."
   ]
  },
  {
   "cell_type": "code",
   "execution_count": 14,
   "id": "93426ef1-736c-4699-8f77-ae60b8409b7c",
   "metadata": {},
   "outputs": [],
   "source": [
    "# Удаление текстовых столбцов\n",
    "df = df.select_dtypes(include=[np.number])"
   ]
  },
  {
   "cell_type": "markdown",
   "id": "497decf6-f5da-421f-a544-de5597fc16e9",
   "metadata": {},
   "source": [
    "Так как работаем только с числовыми данными, текстовые удаляем."
   ]
  },
  {
   "cell_type": "code",
   "execution_count": 17,
   "id": "e1e0f0db-0d03-4f48-bb1c-114fe0d0facc",
   "metadata": {},
   "outputs": [],
   "source": [
    "# Разделение данных на признаки и целевую переменную\n",
    "X = df.drop(columns=['Gender'])\n",
    "y = df['Gender']\n",
    "\n",
    "# Нормализация данных\n",
    "scaler = StandardScaler()\n",
    "X_scaled = scaler.fit_transform(X)\n",
    "\n",
    "# Разделение данных на обучающую и тестовую выборки\n",
    "X_train, X_test, y_train, y_test = train_test_split(X_scaled, y, test_size=0.2, random_state=42)"
   ]
  },
  {
   "cell_type": "markdown",
   "id": "556b4e06-66cd-4023-9207-ef7e97223870",
   "metadata": {},
   "source": [
    "Тестовую выборку ставим 20% так как мало записей в датасете."
   ]
  },
  {
   "cell_type": "code",
   "execution_count": 20,
   "id": "4a4a0a21-c532-4e50-9498-f868d56f0271",
   "metadata": {},
   "outputs": [
    {
     "name": "stdout",
     "output_type": "stream",
     "text": [
      "Метрики для kNN:\n",
      "Accuracy: 0.93\n",
      "Precision: 0.95\n",
      "Recall: 0.91\n",
      "F1-score: 0.93\n",
      "ROC AUC: 0.97\n",
      "              precision    recall  f1-score   support\n",
      "\n",
      "           0       0.91      0.95      0.93        98\n",
      "           1       0.95      0.91      0.93        97\n",
      "\n",
      "    accuracy                           0.93       195\n",
      "   macro avg       0.93      0.93      0.93       195\n",
      "weighted avg       0.93      0.93      0.93       195\n",
      "\n",
      "Метрики для Decision Tree:\n",
      "Accuracy: 0.95\n",
      "Precision: 0.94\n",
      "Recall: 0.97\n",
      "F1-score: 0.95\n",
      "ROC AUC: 0.95\n",
      "              precision    recall  f1-score   support\n",
      "\n",
      "           0       0.97      0.94      0.95        98\n",
      "           1       0.94      0.97      0.95        97\n",
      "\n",
      "    accuracy                           0.95       195\n",
      "   macro avg       0.95      0.95      0.95       195\n",
      "weighted avg       0.95      0.95      0.95       195\n",
      "\n"
     ]
    }
   ],
   "source": [
    "# kNN\n",
    "knn = KNeighborsClassifier(n_neighbors=5)\n",
    "knn.fit(X_train, y_train)\n",
    "y_pred_knn = knn.predict(X_test)\n",
    "y_pred_knn_prob = knn.predict_proba(X_test)[:, 1]  # Для ROC AUC\n",
    "\n",
    "# Дерево решений\n",
    "dt = DecisionTreeClassifier(random_state=42)\n",
    "dt.fit(X_train, y_train)\n",
    "y_pred_dt = dt.predict(X_test)\n",
    "y_pred_dt_prob = dt.predict_proba(X_test)[:, 1]  # Для ROC AUC\n",
    "\n",
    "# Метрики оценки\n",
    "def evaluate_model(y_true, y_pred, y_prob, model_name):\n",
    "    print(f\"Метрики для {model_name}:\")\n",
    "    print(f\"Accuracy: {accuracy_score(y_true, y_pred):.2f}\")\n",
    "    print(f\"Precision: {precision_score(y_true, y_pred):.2f}\")\n",
    "    print(f\"Recall: {recall_score(y_true, y_pred):.2f}\")\n",
    "    print(f\"F1-score: {f1_score(y_true, y_pred):.2f}\")\n",
    "    print(f\"ROC AUC: {roc_auc_score(y_true, y_prob):.2f}\")\n",
    "    print(classification_report(y_true, y_pred))\n",
    "\n",
    "# Оценка kNN\n",
    "evaluate_model(y_test, y_pred_knn, y_pred_knn_prob, \"kNN\")\n",
    "\n",
    "# Оценка дерева решений\n",
    "evaluate_model(y_test, y_pred_dt, y_pred_dt_prob, \"Decision Tree\")"
   ]
  },
  {
   "cell_type": "code",
   "execution_count": 22,
   "id": "136b3550-da1a-4c3e-bd24-5655412a35f9",
   "metadata": {},
   "outputs": [
    {
     "data": {
      "image/png": "[encoded data removed]",
      "text/plain": [
       "<Figure size 800x600 with 1 Axes>"
      ]
     },
     "metadata": {},
     "output_type": "display_data"
    }
   ],
   "source": [
    "# Функция ROC-кривой\n",
    "def plot_roc_curve(y_true, y_prob, model_name):\n",
    "    fpr, tpr, thresholds = roc_curve(y_true, y_prob)\n",
    "    plt.plot(fpr, tpr, label=f\"{model_name} (AUC = {roc_auc_score(y_true, y_prob):.2f})\")\n",
    "    plt.xlabel(\"False Positive Rate\")\n",
    "    plt.ylabel(\"True Positive Rate\")\n",
    "    plt.title(\"ROC кривая\")\n",
    "    plt.legend(loc=\"lower right\")\n",
    "\n",
    "# Построение ROC-кривой\n",
    "plt.figure(figsize=(8, 6))\n",
    "plot_roc_curve(y_test, y_pred_knn_prob, \"kNN\")\n",
    "plot_roc_curve(y_test, y_pred_dt_prob, \"Decision Tree\")\n",
    "plt.plot([0, 1], [0, 1], \"k--\", label=\"Random Guess\")\n",
    "plt.grid()\n",
    "plt.show()"
   ]
  },
  {
   "cell_type": "markdown",
   "id": "122561ea-5446-43da-9c5f-cb0e2db8788f",
   "metadata": {},
   "source": [
    "---\n",
    "**Вывод:**"
   ]
  },
  {
   "cell_type": "markdown",
   "id": "32ab1733-8532-445f-b165-1cb16d20a48e",
   "metadata": {},
   "source": [
    "**Результаты классификации для класса 0 (Female)**\n",
    "\n",
    "<table>\n",
    "  <tr>\n",
    "    <th>Модель</th>\n",
    "    <th>Precision</th>\n",
    "    <th>Recall</th>\n",
    "    <th>F-score</th>\n",
    "  </tr>\n",
    "  <tr>\n",
    "    <td>kNN</td>\n",
    "    <td>0.91</td> <!-- Здесь замените на значение Precision для класса 0 -->\n",
    "    <td>0.95</td> <!-- Здесь замените на значение Recall для класса 0 -->\n",
    "    <td>0.93</td> <!-- Здесь замените на значение F-score для класса 0 -->\n",
    "  </tr>\n",
    "  <tr>\n",
    "    <td>Decision Tree</td>\n",
    "    <td>0.97</td> <!-- Здесь замените на значение Precision для класса 0 -->\n",
    "    <td>0.94</td> <!-- Здесь замените на значение Recall для класса 0 -->\n",
    "    <td>0.95</td> <!-- Здесь замените на значение F-score для класса 0 -->\n",
    "  </tr>\n",
    "</table>\n",
    "\n",
    "Decision Tree показал несколько лучшие результаты, чем kNN, с более высоким значением Precision (0.97), что указывает на его способность с высокой точностью классифицировать класс 0. Однако обе модели демонстрируют хорошие показатели для этого класса, с небольшими различиями в Recall и F-score."
   ]
  },
  {
   "cell_type": "markdown",
   "id": "12aa2275-3989-440d-8a64-a3ca0b1bc180",
   "metadata": {},
   "source": [
    "**Результаты классификации для класса 1 (Male)**\n",
    "\n",
    "<table>\n",
    "  <tr>\n",
    "    <th>Модель</th>\n",
    "    <th>Precision</th>\n",
    "    <th>Recall</th>\n",
    "    <th>F-score</th>\n",
    "  </tr>\n",
    "  <tr>\n",
    "    <td>kNN</td>\n",
    "    <td>0.95</td> <!-- Здесь замените на значение Precision для класса 1 -->\n",
    "    <td>0.91</td> <!-- Здесь замените на значение Recall для класса 1 -->\n",
    "    <td>0.93</td> <!-- Здесь замените на значение F-score для класса 1 -->\n",
    "  </tr>\n",
    "  <tr>\n",
    "    <td>Decision Tree</td>\n",
    "    <td>0.94</td> <!-- Здесь замените на значение Precision для класса 1 -->\n",
    "    <td>0.97</td> <!-- Здесь замените на значение Recall для класса 1 -->\n",
    "    <td>0.95</td> <!-- Здесь замените на значение F-score для класса 1 -->\n",
    "  </tr>\n",
    "</table>\n",
    "\n",
    "Decision Tree показал лучшую способность к обнаружению примеров класса 1, что выражается в более высоком Recall. kNN имеет немного более высокую точность, но оно пропускает больше примеров класса 1. Оба алгоритма демонстрируют хорошие результаты для этого класса, с более высокими значениями F-score."
   ]
  },
  {
   "cell_type": "markdown",
   "id": "657e7b80-6ab7-44ce-9396-bdb530c0e3e3",
   "metadata": {},
   "source": [
    "Decision Tree (Accuracy: 0.95) обладает немного более высокой общей точностью, чем kNN (Accuracy: 0.93)."
   ]
  },
  {
   "cell_type": "markdown",
   "id": "ea465274-d163-4c74-8ac0-07887468cb88",
   "metadata": {},
   "source": [
    "Обе модели показывают хорошие результаты на ROC кривой, имея большую площадь охвата данных, однако у модели kNN площадь чуть больше. Таким образом модель kNN будет чуть-более предпочтительнее в данной обработке."
   ]
  }
 ],
 "metadata": {
  "kernelspec": {
   "display_name": "Python 3 (ipykernel)",
   "language": "python",
   "name": "python3"
  },
  "language_info": {
   "codemirror_mode": {
    "name": "ipython",
    "version": 3
   },
   "file_extension": ".py",
   "mimetype": "text/x-python",
   "name": "python",
   "nbconvert_exporter": "python",
   "pygments_lexer": "ipython3",
   "version": "3.12.7"
  }
 },
 "nbformat": 4,
 "nbformat_minor": 5
}
